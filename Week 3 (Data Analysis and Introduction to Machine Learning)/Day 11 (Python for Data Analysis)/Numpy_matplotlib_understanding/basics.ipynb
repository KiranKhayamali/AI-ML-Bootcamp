{
 "cells": [
  {
   "cell_type": "markdown",
   "metadata": {},
   "source": [
    "<h2 align = 'center'> Numpy and Pandas Understanding </h2>\n",
    "<hr>\n",
    "<p>This is a basic understanding numpy and pandas using jupyter notebook </p>"
   ]
  },
  {
   "cell_type": "code",
   "execution_count": 10,
   "metadata": {},
   "outputs": [
    {
     "name": "stdout",
     "output_type": "stream",
     "text": [
      "Hello World !!!\n"
     ]
    }
   ],
   "source": [
    "#This is a cell\n",
    "\n",
    "print(\"Hello World !!!\")\n",
    "\n",
    "list_of_numbers = [1, 2, 3, 4, 5]\n",
    "\n",
    "\n",
    "\n"
   ]
  },
  {
   "cell_type": "code",
   "execution_count": 2,
   "metadata": {},
   "outputs": [
    {
     "name": "stdout",
     "output_type": "stream",
     "text": [
      "15\n"
     ]
    }
   ],
   "source": [
    "#try to calculate the sum by looping over list\n",
    "sum_of_list = 0\n",
    "for num in list_of_numbers:\n",
    "    sum_of_list += num\n",
    "\n",
    "print(sum_of_list)"
   ]
  },
  {
   "cell_type": "code",
   "execution_count": 3,
   "metadata": {},
   "outputs": [
    {
     "name": "stdout",
     "output_type": "stream",
     "text": [
      "15\n"
     ]
    }
   ],
   "source": [
    "#try to ca;culate the sum by using predefined function sum\n",
    "\n",
    "print(sum(list_of_numbers))"
   ]
  },
  {
   "cell_type": "markdown",
   "metadata": {},
   "source": [
    "<h3 align = 'left'> Understanging Numpy </h3>\n",
    "<p> Installing Numpy from Jupyter Notebook </p>"
   ]
  },
  {
   "cell_type": "code",
   "execution_count": 5,
   "metadata": {},
   "outputs": [
    {
     "name": "stdout",
     "output_type": "stream",
     "text": [
      "Requirement already satisfied: numpy in c:\\users\\kiran\\onedrive\\desktop\\ai ml bootcamp\\aimlvenv\\lib\\site-packages (2.0.1)\n",
      "Note: you may need to restart the kernel to use updated packages.\n"
     ]
    },
    {
     "name": "stderr",
     "output_type": "stream",
     "text": [
      "\n",
      "[notice] A new release of pip is available: 24.0 -> 24.2\n",
      "[notice] To update, run: python.exe -m pip install --upgrade pip\n"
     ]
    }
   ],
   "source": [
    "#To provide cmd commands type '!' or '%' before the commands\n",
    "%pip install numpy"
   ]
  },
  {
   "cell_type": "code",
   "execution_count": 9,
   "metadata": {},
   "outputs": [
    {
     "name": "stdout",
     "output_type": "stream",
     "text": [
      "[1, 2, 3, 4, 5] <class 'list'>\n",
      "[1 2 3 4 5] <class 'numpy.ndarray'>\n",
      "15\n",
      "3.0\n",
      "1.4142135623730951\n",
      "5\n",
      "1\n"
     ]
    }
   ],
   "source": [
    "import numpy as np\n",
    "\n",
    "array_of_numbers = np.array([1,2,3,4,5])\n",
    "print([1,2,3,4,5], type([1,2,3,4,5]))\n",
    "print(array_of_numbers, type(array_of_numbers))\n",
    "\n",
    "#Mathematical equations on array\n",
    "\n",
    "print(f\"The sum of list or array using numpy : {array_of_numbers.sum()}\")    \n",
    "print(f\"The mean of list or array using numpy :{array_of_numbers.mean()}\")\n",
    "print(array_of_numbers.std())\n",
    "print(array_of_numbers.max())\n",
    "print(array_of_numbers.min())"
   ]
  },
  {
   "cell_type": "code",
   "execution_count": 13,
   "metadata": {},
   "outputs": [
    {
     "name": "stdout",
     "output_type": "stream",
     "text": [
      "15\n",
      "3.0\n",
      "5\n",
      "1\n"
     ]
    }
   ],
   "source": [
    "#calculate sum of list of number, mean , standard deviation , maximum and minimum\n",
    "print(sum(list_of_numbers)) #sum \n",
    "print((sum(list_of_numbers))/ len(list_of_numbers)) # mean\n",
    "\n",
    "print(max(list_of_numbers))\n",
    "print(min(list_of_numbers))"
   ]
  }
 ],
 "metadata": {
  "kernelspec": {
   "display_name": "AIMLvenv",
   "language": "python",
   "name": "python3"
  },
  "language_info": {
   "codemirror_mode": {
    "name": "ipython",
    "version": 3
   },
   "file_extension": ".py",
   "mimetype": "text/x-python",
   "name": "python",
   "nbconvert_exporter": "python",
   "pygments_lexer": "ipython3",
   "version": "3.12.4"
  }
 },
 "nbformat": 4,
 "nbformat_minor": 2
}
