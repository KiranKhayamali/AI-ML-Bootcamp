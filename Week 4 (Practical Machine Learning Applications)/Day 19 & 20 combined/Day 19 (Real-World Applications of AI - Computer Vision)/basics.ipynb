{
 "cells": [
  {
   "cell_type": "markdown",
   "metadata": {},
   "source": [
    "<h3>Efficient Net Learning and Understanding</h3>"
   ]
  },
  {
   "cell_type": "markdown",
   "metadata": {},
   "source": [
    "<h4>Installing Required Packages</h4>"
   ]
  },
  {
   "cell_type": "code",
   "execution_count": 5,
   "metadata": {},
   "outputs": [
    {
     "name": "stdout",
     "output_type": "stream",
     "text": [
      "Requirement already satisfied: tensorflow in c:\\users\\kiran\\onedrive\\desktop\\ai ml bootcamp\\aimlvenv\\lib\\site-packages (2.17.0)\n",
      "Requirement already satisfied: tensorflow-intel==2.17.0 in c:\\users\\kiran\\onedrive\\desktop\\ai ml bootcamp\\aimlvenv\\lib\\site-packages (from tensorflow) (2.17.0)\n",
      "Requirement already satisfied: absl-py>=1.0.0 in c:\\users\\kiran\\onedrive\\desktop\\ai ml bootcamp\\aimlvenv\\lib\\site-packages (from tensorflow-intel==2.17.0->tensorflow) (2.1.0)\n",
      "Requirement already satisfied: astunparse>=1.6.0 in c:\\users\\kiran\\onedrive\\desktop\\ai ml bootcamp\\aimlvenv\\lib\\site-packages (from tensorflow-intel==2.17.0->tensorflow) (1.6.3)\n",
      "Requirement already satisfied: flatbuffers>=24.3.25 in c:\\users\\kiran\\onedrive\\desktop\\ai ml bootcamp\\aimlvenv\\lib\\site-packages (from tensorflow-intel==2.17.0->tensorflow) (24.3.25)\n",
      "Requirement already satisfied: gast!=0.5.0,!=0.5.1,!=0.5.2,>=0.2.1 in c:\\users\\kiran\\onedrive\\desktop\\ai ml bootcamp\\aimlvenv\\lib\\site-packages (from tensorflow-intel==2.17.0->tensorflow) (0.6.0)\n",
      "Requirement already satisfied: google-pasta>=0.1.1 in c:\\users\\kiran\\onedrive\\desktop\\ai ml bootcamp\\aimlvenv\\lib\\site-packages (from tensorflow-intel==2.17.0->tensorflow) (0.2.0)\n",
      "Requirement already satisfied: h5py>=3.10.0 in c:\\users\\kiran\\onedrive\\desktop\\ai ml bootcamp\\aimlvenv\\lib\\site-packages (from tensorflow-intel==2.17.0->tensorflow) (3.11.0)\n",
      "Requirement already satisfied: libclang>=13.0.0 in c:\\users\\kiran\\onedrive\\desktop\\ai ml bootcamp\\aimlvenv\\lib\\site-packages (from tensorflow-intel==2.17.0->tensorflow) (18.1.1)\n",
      "Requirement already satisfied: ml-dtypes<0.5.0,>=0.3.1 in c:\\users\\kiran\\onedrive\\desktop\\ai ml bootcamp\\aimlvenv\\lib\\site-packages (from tensorflow-intel==2.17.0->tensorflow) (0.4.0)\n",
      "Requirement already satisfied: opt-einsum>=2.3.2 in c:\\users\\kiran\\onedrive\\desktop\\ai ml bootcamp\\aimlvenv\\lib\\site-packages (from tensorflow-intel==2.17.0->tensorflow) (3.3.0)\n",
      "Requirement already satisfied: packaging in c:\\users\\kiran\\onedrive\\desktop\\ai ml bootcamp\\aimlvenv\\lib\\site-packages (from tensorflow-intel==2.17.0->tensorflow) (24.1)\n",
      "Requirement already satisfied: protobuf!=4.21.0,!=4.21.1,!=4.21.2,!=4.21.3,!=4.21.4,!=4.21.5,<5.0.0dev,>=3.20.3 in c:\\users\\kiran\\onedrive\\desktop\\ai ml bootcamp\\aimlvenv\\lib\\site-packages (from tensorflow-intel==2.17.0->tensorflow) (4.25.4)\n",
      "Requirement already satisfied: requests<3,>=2.21.0 in c:\\users\\kiran\\onedrive\\desktop\\ai ml bootcamp\\aimlvenv\\lib\\site-packages (from tensorflow-intel==2.17.0->tensorflow) (2.32.3)\n",
      "Requirement already satisfied: setuptools in c:\\users\\kiran\\onedrive\\desktop\\ai ml bootcamp\\aimlvenv\\lib\\site-packages (from tensorflow-intel==2.17.0->tensorflow) (74.0.0)\n",
      "Requirement already satisfied: six>=1.12.0 in c:\\users\\kiran\\onedrive\\desktop\\ai ml bootcamp\\aimlvenv\\lib\\site-packages (from tensorflow-intel==2.17.0->tensorflow) (1.16.0)\n",
      "Requirement already satisfied: termcolor>=1.1.0 in c:\\users\\kiran\\onedrive\\desktop\\ai ml bootcamp\\aimlvenv\\lib\\site-packages (from tensorflow-intel==2.17.0->tensorflow) (2.4.0)\n",
      "Requirement already satisfied: typing-extensions>=3.6.6 in c:\\users\\kiran\\onedrive\\desktop\\ai ml bootcamp\\aimlvenv\\lib\\site-packages (from tensorflow-intel==2.17.0->tensorflow) (4.12.2)\n",
      "Requirement already satisfied: wrapt>=1.11.0 in c:\\users\\kiran\\onedrive\\desktop\\ai ml bootcamp\\aimlvenv\\lib\\site-packages (from tensorflow-intel==2.17.0->tensorflow) (1.16.0)\n",
      "Requirement already satisfied: grpcio<2.0,>=1.24.3 in c:\\users\\kiran\\onedrive\\desktop\\ai ml bootcamp\\aimlvenv\\lib\\site-packages (from tensorflow-intel==2.17.0->tensorflow) (1.66.1)\n",
      "Requirement already satisfied: tensorboard<2.18,>=2.17 in c:\\users\\kiran\\onedrive\\desktop\\ai ml bootcamp\\aimlvenv\\lib\\site-packages (from tensorflow-intel==2.17.0->tensorflow) (2.17.1)\n",
      "Requirement already satisfied: keras>=3.2.0 in c:\\users\\kiran\\onedrive\\desktop\\ai ml bootcamp\\aimlvenv\\lib\\site-packages (from tensorflow-intel==2.17.0->tensorflow) (3.5.0)\n",
      "Requirement already satisfied: numpy<2.0.0,>=1.26.0 in c:\\users\\kiran\\onedrive\\desktop\\ai ml bootcamp\\aimlvenv\\lib\\site-packages (from tensorflow-intel==2.17.0->tensorflow) (1.26.4)\n",
      "Requirement already satisfied: wheel<1.0,>=0.23.0 in c:\\users\\kiran\\onedrive\\desktop\\ai ml bootcamp\\aimlvenv\\lib\\site-packages (from astunparse>=1.6.0->tensorflow-intel==2.17.0->tensorflow) (0.44.0)\n",
      "Requirement already satisfied: rich in c:\\users\\kiran\\onedrive\\desktop\\ai ml bootcamp\\aimlvenv\\lib\\site-packages (from keras>=3.2.0->tensorflow-intel==2.17.0->tensorflow) (13.8.0)\n",
      "Requirement already satisfied: namex in c:\\users\\kiran\\onedrive\\desktop\\ai ml bootcamp\\aimlvenv\\lib\\site-packages (from keras>=3.2.0->tensorflow-intel==2.17.0->tensorflow) (0.0.8)\n",
      "Requirement already satisfied: optree in c:\\users\\kiran\\onedrive\\desktop\\ai ml bootcamp\\aimlvenv\\lib\\site-packages (from keras>=3.2.0->tensorflow-intel==2.17.0->tensorflow) (0.12.1)\n",
      "Requirement already satisfied: charset-normalizer<4,>=2 in c:\\users\\kiran\\onedrive\\desktop\\ai ml bootcamp\\aimlvenv\\lib\\site-packages (from requests<3,>=2.21.0->tensorflow-intel==2.17.0->tensorflow) (3.3.2)\n",
      "Requirement already satisfied: idna<4,>=2.5 in c:\\users\\kiran\\onedrive\\desktop\\ai ml bootcamp\\aimlvenv\\lib\\site-packages (from requests<3,>=2.21.0->tensorflow-intel==2.17.0->tensorflow) (3.8)\n",
      "Requirement already satisfied: urllib3<3,>=1.21.1 in c:\\users\\kiran\\onedrive\\desktop\\ai ml bootcamp\\aimlvenv\\lib\\site-packages (from requests<3,>=2.21.0->tensorflow-intel==2.17.0->tensorflow) (2.2.2)\n",
      "Requirement already satisfied: certifi>=2017.4.17 in c:\\users\\kiran\\onedrive\\desktop\\ai ml bootcamp\\aimlvenv\\lib\\site-packages (from requests<3,>=2.21.0->tensorflow-intel==2.17.0->tensorflow) (2024.7.4)\n",
      "Requirement already satisfied: markdown>=2.6.8 in c:\\users\\kiran\\onedrive\\desktop\\ai ml bootcamp\\aimlvenv\\lib\\site-packages (from tensorboard<2.18,>=2.17->tensorflow-intel==2.17.0->tensorflow) (3.7)\n",
      "Requirement already satisfied: tensorboard-data-server<0.8.0,>=0.7.0 in c:\\users\\kiran\\onedrive\\desktop\\ai ml bootcamp\\aimlvenv\\lib\\site-packages (from tensorboard<2.18,>=2.17->tensorflow-intel==2.17.0->tensorflow) (0.7.2)\n",
      "Requirement already satisfied: werkzeug>=1.0.1 in c:\\users\\kiran\\onedrive\\desktop\\ai ml bootcamp\\aimlvenv\\lib\\site-packages (from tensorboard<2.18,>=2.17->tensorflow-intel==2.17.0->tensorflow) (3.0.4)\n",
      "Requirement already satisfied: MarkupSafe>=2.1.1 in c:\\users\\kiran\\onedrive\\desktop\\ai ml bootcamp\\aimlvenv\\lib\\site-packages (from werkzeug>=1.0.1->tensorboard<2.18,>=2.17->tensorflow-intel==2.17.0->tensorflow) (2.1.5)\n",
      "Requirement already satisfied: markdown-it-py>=2.2.0 in c:\\users\\kiran\\onedrive\\desktop\\ai ml bootcamp\\aimlvenv\\lib\\site-packages (from rich->keras>=3.2.0->tensorflow-intel==2.17.0->tensorflow) (3.0.0)\n",
      "Requirement already satisfied: pygments<3.0.0,>=2.13.0 in c:\\users\\kiran\\onedrive\\desktop\\ai ml bootcamp\\aimlvenv\\lib\\site-packages (from rich->keras>=3.2.0->tensorflow-intel==2.17.0->tensorflow) (2.18.0)\n",
      "Requirement already satisfied: mdurl~=0.1 in c:\\users\\kiran\\onedrive\\desktop\\ai ml bootcamp\\aimlvenv\\lib\\site-packages (from markdown-it-py>=2.2.0->rich->keras>=3.2.0->tensorflow-intel==2.17.0->tensorflow) (0.1.2)\n",
      "Note: you may need to restart the kernel to use updated packages.\n"
     ]
    },
    {
     "name": "stderr",
     "output_type": "stream",
     "text": [
      "\n",
      "[notice] A new release of pip is available: 24.0 -> 24.2\n",
      "[notice] To update, run: python.exe -m pip install --upgrade pip\n"
     ]
    }
   ],
   "source": [
    "%pip install tensorflow"
   ]
  },
  {
   "cell_type": "markdown",
   "metadata": {},
   "source": [
    "<h4>Importing Dependencies</h4>"
   ]
  },
  {
   "cell_type": "code",
   "execution_count": 2,
   "metadata": {},
   "outputs": [],
   "source": [
    "import tensorflow as tf\n",
    "from keras.applications.efficientnet import EfficientNetB0\n",
    "from PIL import Image\n",
    "from sklearn.model_selection import train_test_split\n",
    "import os \n",
    "import pandas as pd\n",
    "import numpy as np\n",
    "import matplotlib.pyplot as plt\n"
   ]
  },
  {
   "cell_type": "markdown",
   "metadata": {},
   "source": [
    "<h4>Understanding Architecture of Efficient Net</h4>"
   ]
  },
  {
   "cell_type": "code",
   "execution_count": 3,
   "metadata": {},
   "outputs": [],
   "source": [
    "model = EfficientNetB0()\n",
    "# model.summary() #This code is used to study data a little bit more\n",
    "\n",
    "del model #Delete the model"
   ]
  },
  {
   "cell_type": "markdown",
   "metadata": {},
   "source": [
    "<h4>Pre-Processing Datasets</h4>"
   ]
  },
  {
   "cell_type": "code",
   "execution_count": 7,
   "metadata": {},
   "outputs": [
    {
     "data": {
      "text/plain": [
       "{0: 'airplane',\n",
       " 1: 'car',\n",
       " 2: 'cat',\n",
       " 3: 'dog',\n",
       " 4: 'flower',\n",
       " 5: 'fruit',\n",
       " 6: 'motorbike',\n",
       " 7: 'person'}"
      ]
     },
     "metadata": {},
     "output_type": "display_data"
    }
   ],
   "source": [
    "def convert_image_to_tensor(path):\n",
    "    img = Image.open(path)\n",
    "    img = img.resize(224, 224) #this is done to make the model learn faster\n",
    "    img = np.asarray(img)\n",
    "    return img\n",
    "\n",
    "image_list = []\n",
    "labels_list = []\n",
    "labels_map = {}\n",
    "label_var = 0\n",
    "i = \"../data/natural_images\"\n",
    "for folder in os.listdir(i):\n",
    "    labels_map[label_var]= folder\n",
    "    for file in os.listdir(i + '/' + folder):\n",
    "        image_list.append(i + '/' + folder + '/' + file)\n",
    "        labels_list.append(label_var)\n",
    "    label_var+=1\n",
    "\n",
    "display(labels_map)"
   ]
  }
 ],
 "metadata": {
  "kernelspec": {
   "display_name": "AIMLvenv",
   "language": "python",
   "name": "python3"
  },
  "language_info": {
   "codemirror_mode": {
    "name": "ipython",
    "version": 3
   },
   "file_extension": ".py",
   "mimetype": "text/x-python",
   "name": "python",
   "nbconvert_exporter": "python",
   "pygments_lexer": "ipython3",
   "version": "3.12.4"
  }
 },
 "nbformat": 4,
 "nbformat_minor": 2
}
