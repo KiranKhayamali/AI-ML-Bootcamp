{
 "cells": [
  {
   "cell_type": "markdown",
   "metadata": {},
   "source": [
    "<h2 align = 'center'> Numpy and Pandas Understanding </h2>\n",
    "<hr>\n",
    "<p>This is a basic understanding numpy and pandas using jupyter notebook </p>"
   ]
  },
  {
   "cell_type": "code",
   "execution_count": 2,
   "metadata": {},
   "outputs": [
    {
     "name": "stdout",
     "output_type": "stream",
     "text": [
      "Hello World !!!\n"
     ]
    }
   ],
   "source": [
    "#This is a cell\n",
    "\n",
    "print(\"Hello World !!!\")\n",
    "\n",
    "list_of_numbers = [1, 2, 3, 4, 5]\n",
    "\n",
    "\n",
    "\n"
   ]
  },
  {
   "cell_type": "code",
   "execution_count": 2,
   "metadata": {},
   "outputs": [
    {
     "name": "stdout",
     "output_type": "stream",
     "text": [
      "15\n"
     ]
    }
   ],
   "source": [
    "#try to calculate the sum by looping over list\n",
    "sum_of_list = 0\n",
    "for num in list_of_numbers:\n",
    "    sum_of_list += num\n",
    "\n",
    "print(sum_of_list)"
   ]
  },
  {
   "cell_type": "code",
   "execution_count": 3,
   "metadata": {},
   "outputs": [
    {
     "name": "stdout",
     "output_type": "stream",
     "text": [
      "15\n"
     ]
    }
   ],
   "source": [
    "#try to ca;culate the sum by using predefined function sum\n",
    "\n",
    "print(sum(list_of_numbers))"
   ]
  },
  {
   "cell_type": "markdown",
   "metadata": {},
   "source": [
    "<h3 align = 'left'> Understanging Numpy </h3>\n",
    "<p> Installing Numpy from Jupyter Notebook </p>"
   ]
  },
  {
   "cell_type": "code",
   "execution_count": 5,
   "metadata": {},
   "outputs": [
    {
     "name": "stdout",
     "output_type": "stream",
     "text": [
      "Requirement already satisfied: numpy in c:\\users\\kiran\\onedrive\\desktop\\ai ml bootcamp\\aimlvenv\\lib\\site-packages (2.0.1)\n",
      "Note: you may need to restart the kernel to use updated packages.\n"
     ]
    },
    {
     "name": "stderr",
     "output_type": "stream",
     "text": [
      "\n",
      "[notice] A new release of pip is available: 24.0 -> 24.2\n",
      "[notice] To update, run: python.exe -m pip install --upgrade pip\n"
     ]
    }
   ],
   "source": [
    "#To provide cmd commands type '!' or '%' before the commands\n",
    "%pip install numpy"
   ]
  },
  {
   "cell_type": "code",
   "execution_count": 1,
   "metadata": {},
   "outputs": [
    {
     "name": "stdout",
     "output_type": "stream",
     "text": [
      "[1, 2, 3, 4, 5] <class 'list'>\n",
      "[1 2 3 4 5] <class 'numpy.ndarray'>\n",
      "The sum of list or array using numpy : 15\n",
      "The mean of list or array using numpy :3.0\n",
      "1.4142135623730951\n",
      "5\n",
      "1\n"
     ]
    }
   ],
   "source": [
    "import numpy as np\n",
    "\n",
    "array_of_numbers = np.array([1,2,3,4,5])\n",
    "print([1,2,3,4,5], type([1,2,3,4,5]))\n",
    "print(array_of_numbers, type(array_of_numbers))\n",
    "\n",
    "#Mathematical equations on array\n",
    "\n",
    "print(f\"The sum of list or array using numpy : {array_of_numbers.sum()}\")    \n",
    "print(f\"The mean of list or array using numpy :{array_of_numbers.mean()}\")\n",
    "print(array_of_numbers.std())\n",
    "print(array_of_numbers.max())\n",
    "print(array_of_numbers.min())"
   ]
  },
  {
   "cell_type": "code",
   "execution_count": 3,
   "metadata": {},
   "outputs": [
    {
     "name": "stdout",
     "output_type": "stream",
     "text": [
      "15\n",
      "3.0\n",
      "5\n",
      "1\n"
     ]
    }
   ],
   "source": [
    "#calculate sum of list of number, mean , standard deviation , maximum and minimum\n",
    "print(sum(list_of_numbers)) #sum \n",
    "print((sum(list_of_numbers))/ len(list_of_numbers)) # mean\n",
    "\n",
    "print(max(list_of_numbers))\n",
    "print(min(list_of_numbers))"
   ]
  },
  {
   "cell_type": "markdown",
   "metadata": {},
   "source": [
    "<h2 align ='center'>Understanding Dimension of Array and Matrices </h2>"
   ]
  },
  {
   "cell_type": "code",
   "execution_count": null,
   "metadata": {},
   "outputs": [],
   "source": [
    "#Single Dimension Array\n",
    "#[1,2,3]\n"
   ]
  },
  {
   "cell_type": "code",
   "execution_count": 2,
   "metadata": {},
   "outputs": [
    {
     "name": "stdout",
     "output_type": "stream",
     "text": [
      "[[ 5  7]\n",
      " [ 9 11]]\n",
      "************************************************************\n",
      "[[-3 -3]\n",
      " [-3 -3]]\n",
      "************************************************************\n",
      "[[ 4 10]\n",
      " [18 28]]\n"
     ]
    }
   ],
   "source": [
    "matrix_A = np.array(([1,2] , [3,4]))\n",
    "matrix_B = np.array(([4,5], [6,7]))\n",
    "\n",
    "print(matrix_A + matrix_B)\n",
    "print(\"**\" *30)\n",
    "print(matrix_A - matrix_B)\n",
    "print(\"**\"*30)\n",
    "print(matrix_A * matrix_B)"
   ]
  },
  {
   "cell_type": "code",
   "execution_count": 11,
   "metadata": {},
   "outputs": [
    {
     "ename": "ValueError",
     "evalue": "invalid literal for int() with base 10: ''",
     "output_type": "error",
     "traceback": [
      "\u001b[1;31m---------------------------------------------------------------------------\u001b[0m",
      "\u001b[1;31mValueError\u001b[0m                                Traceback (most recent call last)",
      "Cell \u001b[1;32mIn[11], line 9\u001b[0m\n\u001b[0;32m      1\u001b[0m \u001b[38;5;66;03m#Task 3\u001b[39;00m\n\u001b[0;32m      2\u001b[0m \u001b[38;5;124;03m'''\u001b[39;00m\n\u001b[0;32m      3\u001b[0m \u001b[38;5;124;03mWAP that asks the dimension for the matrix, Take input for each position of the matrix\u001b[39;00m\n\u001b[0;32m      4\u001b[0m \u001b[38;5;124;03mThen creates matrix using list which was appending all the inputs\u001b[39;00m\n\u001b[0;32m      5\u001b[0m \u001b[38;5;124;03mFinally display the matri\u001b[39;00m\n\u001b[0;32m      6\u001b[0m \u001b[38;5;124;03m'''\u001b[39;00m\n\u001b[1;32m----> 9\u001b[0m number_of_row \u001b[38;5;241m=\u001b[39m \u001b[38;5;28;43mint\u001b[39;49m\u001b[43m(\u001b[49m\u001b[38;5;28;43minput\u001b[39;49m\u001b[43m(\u001b[49m\u001b[38;5;124;43m\"\u001b[39;49m\u001b[38;5;124;43mEnter number of row :\u001b[39;49m\u001b[38;5;124;43m\"\u001b[39;49m\u001b[43m)\u001b[49m\u001b[43m)\u001b[49m\n\u001b[0;32m     10\u001b[0m number_of_column \u001b[38;5;241m=\u001b[39m \u001b[38;5;28mint\u001b[39m(\u001b[38;5;28minput\u001b[39m(\u001b[38;5;124m\"\u001b[39m\u001b[38;5;124mEnter number of column :\u001b[39m\u001b[38;5;124m\"\u001b[39m))\n\u001b[0;32m     11\u001b[0m array_in_list\u001b[38;5;241m=\u001b[39m []\n",
      "\u001b[1;31mValueError\u001b[0m: invalid literal for int() with base 10: ''"
     ]
    }
   ],
   "source": [
    "#Task 3\n",
    "'''\n",
    "WAP that asks the dimension for the matrix, Take input for each position of the matrix\n",
    "Then creates matrix using list which was appending all the inputs\n",
    "Finally display the matri\n",
    "'''\n",
    "\n",
    "\n",
    "number_of_row = int(input(\"Enter number of row :\"))\n",
    "number_of_column = int(input(\"Enter number of column :\"))\n",
    "array_in_list= []\n",
    "for i in range(number_of_row):\n",
    "    row_list = []\n",
    "    for j in range (number_of_column):\n",
    "        element = int(input(f\"Enter value for position {i+1}{j+1}:\"))\n",
    "        row_list.append(element)\n",
    "    array_in_list.append(row_list)\n",
    "\n",
    "print(array_in_list)\n",
    "matrix = np.array(array_in_list)\n",
    "print(matrix)\n"
   ]
  },
  {
   "cell_type": "code",
   "execution_count": 3,
   "metadata": {},
   "outputs": [
    {
     "name": "stdout",
     "output_type": "stream",
     "text": [
      "-2.0000000000000004\n",
      "-2.000000000000003\n"
     ]
    }
   ],
   "source": [
    "#Determinant \n",
    "\n",
    "determinant_A = np.linalg.det(matrix_A)\n",
    "print(determinant_A)\n",
    "\n",
    "determinant_B = np.linalg.det(matrix_B)\n",
    "print(determinant_B)\n",
    "\n"
   ]
  },
  {
   "cell_type": "code",
   "execution_count": 8,
   "metadata": {},
   "outputs": [
    {
     "name": "stdout",
     "output_type": "stream",
     "text": [
      "[[-2. -3.]\n",
      " [ 3.  4.]]\n",
      "[[-3.   2. ]\n",
      " [ 3.  -0.5]]\n"
     ]
    }
   ],
   "source": [
    "'Linear equation as : Ax = B, Solve for x , x =inv(A) * B'\n",
    "solution = np.linalg.solve(matrix_A, matrix_B)\n",
    "print(solution)\n",
    "\n",
    "matrix_A = np.array(([1,2] , [3,4]))\n",
    "matrix_B = np.array(([4,5], [6,7]))\n",
    "c = np.array(([1,4], [3,3]))\n",
    "\n",
    "'Linear equation as :Ax +c =B where c = scalar 10, and c = vector[[1,4], [3,3]], A = Matrix_A, B = Matrix_B'\n",
    "solution2 = np.linalg.solve(matrix_A, matrix_B - c)\n",
    "print(solution2)\n"
   ]
  },
  {
   "cell_type": "code",
   "execution_count": 10,
   "metadata": {},
   "outputs": [
    {
     "name": "stdout",
     "output_type": "stream",
     "text": [
      "4.0\n",
      "54.598150033144236\n",
      "[-0.54402111  0.91294525 -0.98803162]\n",
      "[ 0.64836083  2.23716094 -6.4053312 ]\n"
     ]
    }
   ],
   "source": [
    "print(np.sqrt(16)) # calculate square root\n",
    "print(np.exp(4)) # calculate exponential\n",
    "print(np.sin([10, 20, 30])) # calculate sin angle\n",
    "print(np.tan([10,20,30]))   # calculate tan angle"
   ]
  }
 ],
 "metadata": {
  "kernelspec": {
   "display_name": "AIMLvenv",
   "language": "python",
   "name": "python3"
  },
  "language_info": {
   "codemirror_mode": {
    "name": "ipython",
    "version": 3
   },
   "file_extension": ".py",
   "mimetype": "text/x-python",
   "name": "python",
   "nbconvert_exporter": "python",
   "pygments_lexer": "ipython3",
   "version": "3.12.4"
  }
 },
 "nbformat": 4,
 "nbformat_minor": 2
}
