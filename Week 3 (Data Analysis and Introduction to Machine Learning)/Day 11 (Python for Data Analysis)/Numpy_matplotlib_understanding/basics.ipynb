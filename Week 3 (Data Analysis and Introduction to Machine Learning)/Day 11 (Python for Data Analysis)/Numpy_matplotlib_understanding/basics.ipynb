{
 "cells": [
  {
   "cell_type": "markdown",
   "metadata": {},
   "source": [
    "<h2 align = 'center'> Numpy and Pandas Understanding </h2>\n",
    "<hr>\n",
    "<p>This is a basic understanding numpy and pandas using jupyter notebook </p>"
   ]
  },
  {
   "cell_type": "code",
   "execution_count": 2,
   "metadata": {},
   "outputs": [
    {
     "name": "stdout",
     "output_type": "stream",
     "text": [
      "Hello World !!!\n"
     ]
    }
   ],
   "source": [
    "#This is a cell\n",
    "\n",
    "print(\"Hello World !!!\")\n",
    "\n",
    "list_of_numbers = [1, 2, 3, 4, 5]\n",
    "\n",
    "\n",
    "\n"
   ]
  },
  {
   "cell_type": "code",
   "execution_count": 2,
   "metadata": {},
   "outputs": [
    {
     "name": "stdout",
     "output_type": "stream",
     "text": [
      "15\n"
     ]
    }
   ],
   "source": [
    "#try to calculate the sum by looping over list\n",
    "sum_of_list = 0\n",
    "for num in list_of_numbers:\n",
    "    sum_of_list += num\n",
    "\n",
    "print(sum_of_list)"
   ]
  },
  {
   "cell_type": "code",
   "execution_count": 3,
   "metadata": {},
   "outputs": [
    {
     "name": "stdout",
     "output_type": "stream",
     "text": [
      "15\n"
     ]
    }
   ],
   "source": [
    "#try to ca;culate the sum by using predefined function sum\n",
    "\n",
    "print(sum(list_of_numbers))"
   ]
  },
  {
   "cell_type": "markdown",
   "metadata": {},
   "source": [
    "<h3 align = 'left'> Understanging Numpy </h3>\n",
    "<p> Installing Numpy from Jupyter Notebook </p>"
   ]
  },
  {
   "cell_type": "code",
   "execution_count": 5,
   "metadata": {},
   "outputs": [
    {
     "name": "stdout",
     "output_type": "stream",
     "text": [
      "Requirement already satisfied: numpy in c:\\users\\kiran\\onedrive\\desktop\\ai ml bootcamp\\aimlvenv\\lib\\site-packages (2.0.1)\n",
      "Note: you may need to restart the kernel to use updated packages.\n"
     ]
    },
    {
     "name": "stderr",
     "output_type": "stream",
     "text": [
      "\n",
      "[notice] A new release of pip is available: 24.0 -> 24.2\n",
      "[notice] To update, run: python.exe -m pip install --upgrade pip\n"
     ]
    }
   ],
   "source": [
    "#To provide cmd commands type '!' or '%' before the commands\n",
    "%pip install numpy"
   ]
  },
  {
   "cell_type": "code",
   "execution_count": 1,
   "metadata": {},
   "outputs": [
    {
     "name": "stdout",
     "output_type": "stream",
     "text": [
      "[1, 2, 3, 4, 5] <class 'list'>\n",
      "[1 2 3 4 5] <class 'numpy.ndarray'>\n",
      "The sum of list or array using numpy : 15\n",
      "The mean of list or array using numpy :3.0\n",
      "1.4142135623730951\n",
      "5\n",
      "1\n"
     ]
    }
   ],
   "source": [
    "import numpy as np\n",
    "\n",
    "array_of_numbers = np.array([1,2,3,4,5])\n",
    "print([1,2,3,4,5], type([1,2,3,4,5]))\n",
    "print(array_of_numbers, type(array_of_numbers))\n",
    "\n",
    "#Mathematical equations on array\n",
    "\n",
    "print(f\"The sum of list or array using numpy : {array_of_numbers.sum()}\")    \n",
    "print(f\"The mean of list or array using numpy :{array_of_numbers.mean()}\")\n",
    "print(array_of_numbers.std())\n",
    "print(array_of_numbers.max())\n",
    "print(array_of_numbers.min())"
   ]
  },
  {
   "cell_type": "code",
   "execution_count": 3,
   "metadata": {},
   "outputs": [
    {
     "name": "stdout",
     "output_type": "stream",
     "text": [
      "15\n",
      "3.0\n",
      "5\n",
      "1\n"
     ]
    }
   ],
   "source": [
    "#calculate sum of list of number, mean , standard deviation , maximum and minimum\n",
    "print(sum(list_of_numbers)) #sum \n",
    "print((sum(list_of_numbers))/ len(list_of_numbers)) # mean\n",
    "\n",
    "print(max(list_of_numbers))\n",
    "print(min(list_of_numbers))"
   ]
  },
  {
   "cell_type": "markdown",
   "metadata": {},
   "source": [
    "<h2 align ='center'>Understanding Dimension of Array and Matrices </h2>"
   ]
  },
  {
   "cell_type": "code",
   "execution_count": null,
   "metadata": {},
   "outputs": [],
   "source": [
    "#Single Dimension Array\n",
    "#[1,2,3]\n"
   ]
  },
  {
   "cell_type": "code",
   "execution_count": 2,
   "metadata": {},
   "outputs": [
    {
     "name": "stdout",
     "output_type": "stream",
     "text": [
      "[[ 5  7]\n",
      " [ 9 11]]\n",
      "************************************************************\n",
      "[[-3 -3]\n",
      " [-3 -3]]\n",
      "************************************************************\n",
      "[[ 4 10]\n",
      " [18 28]]\n"
     ]
    }
   ],
   "source": [
    "matrix_A = np.array(([1,2] , [3,4]))\n",
    "matrix_B = np.array(([4,5], [6,7]))\n",
    "\n",
    "print(matrix_A + matrix_B)\n",
    "print(\"**\" *30)\n",
    "print(matrix_A - matrix_B)\n",
    "print(\"**\"*30)\n",
    "print(matrix_A * matrix_B)"
   ]
  },
  {
   "cell_type": "code",
   "execution_count": 2,
   "metadata": {},
   "outputs": [
    {
     "name": "stdout",
     "output_type": "stream",
     "text": [
      "[[2], [3], [4]]\n",
      "[[2]\n",
      " [3]\n",
      " [4]]\n"
     ]
    }
   ],
   "source": [
    "#Task 3\n",
    "'''\n",
    "WAP that asks the dimension for the matrix, Take input for each position of the matrix\n",
    "Then creates matrix using list which was appending all the inputs\n",
    "Finally display the matri\n",
    "'''\n",
    "import numpy as np6\n",
    "\n",
    "\n",
    "number_of_row = int(input(\"Enter number of row :\"))\n",
    "number_of_column = int(input(\"Enter number of column :\"))\n",
    "array_in_list= []\n",
    "for i in range(number_of_row):\n",
    "    row_list = []\n",
    "    for j in range (number_of_column):\n",
    "        element = int(input(f\"Enter value for position {i+1}{j+1}:\"))\n",
    "        row_list.append(element)\n",
    "    array_in_list.append(row_list)\n",
    "\n",
    "print(array_in_list)\n",
    "matrix = np.array(array_in_list)\n",
    "print(matrix)\n"
   ]
  },
  {
   "cell_type": "code",
   "execution_count": 3,
   "metadata": {},
   "outputs": [
    {
     "name": "stdout",
     "output_type": "stream",
     "text": [
      "-2.0000000000000004\n",
      "-2.000000000000003\n"
     ]
    }
   ],
   "source": [
    "#Determinant \n",
    "\n",
    "determinant_A = np.linalg.det(matrix_A)\n",
    "print(determinant_A)\n",
    "\n",
    "determinant_B = np.linalg.det(matrix_B)\n",
    "print(determinant_B)\n",
    "\n"
   ]
  },
  {
   "cell_type": "code",
   "execution_count": 8,
   "metadata": {},
   "outputs": [
    {
     "name": "stdout",
     "output_type": "stream",
     "text": [
      "[[-2. -3.]\n",
      " [ 3.  4.]]\n",
      "[[-3.   2. ]\n",
      " [ 3.  -0.5]]\n"
     ]
    }
   ],
   "source": [
    "'Linear equation as : Ax = B, Solve for x , x =inv(A) * B'\n",
    "solution = np.linalg.solve(matrix_A, matrix_B)\n",
    "print(solution)\n",
    "\n",
    "matrix_A = np.array(([1,2] , [3,4]))\n",
    "matrix_B = np.array(([4,5], [6,7]))\n",
    "c = np.array(([1,4], [3,3]))\n",
    "\n",
    "'Linear equation as :Ax +c =B where c = scalar 10, and c = vector[[1,4], [3,3]], A = Matrix_A, B = Matrix_B'\n",
    "solution2 = np.linalg.solve(matrix_A, matrix_B - c)\n",
    "print(solution2)\n"
   ]
  },
  {
   "cell_type": "code",
   "execution_count": 10,
   "metadata": {},
   "outputs": [
    {
     "name": "stdout",
     "output_type": "stream",
     "text": [
      "4.0\n",
      "54.598150033144236\n",
      "[-0.54402111  0.91294525 -0.98803162]\n",
      "[ 0.64836083  2.23716094 -6.4053312 ]\n"
     ]
    }
   ],
   "source": [
    "print(np.sqrt(16)) # calculate square root\n",
    "print(np.exp(4)) # calculate exponential\n",
    "print(np.sin([10, 20, 30])) # calculate sin angle\n",
    "print(np.tan([10,20,30]))   # calculate tan angle"
   ]
  },
  {
   "cell_type": "markdown",
   "metadata": {},
   "source": [
    "<h3 align = 'center'>Matplotlib Understanding </h3>"
   ]
  },
  {
   "cell_type": "code",
   "execution_count": 3,
   "metadata": {},
   "outputs": [
    {
     "name": "stdout",
     "output_type": "stream",
     "text": [
      "Collecting matplotlib\n",
      "  Downloading matplotlib-3.9.2-cp312-cp312-win_amd64.whl.metadata (11 kB)\n",
      "Collecting contourpy>=1.0.1 (from matplotlib)\n",
      "  Downloading contourpy-1.2.1-cp312-cp312-win_amd64.whl.metadata (5.8 kB)\n",
      "Collecting cycler>=0.10 (from matplotlib)\n",
      "  Downloading cycler-0.12.1-py3-none-any.whl.metadata (3.8 kB)\n",
      "Collecting fonttools>=4.22.0 (from matplotlib)\n",
      "  Downloading fonttools-4.53.1-cp312-cp312-win_amd64.whl.metadata (165 kB)\n",
      "     ---------------------------------------- 0.0/165.9 kB ? eta -:--:--\n",
      "     ------ ------------------------------ 30.7/165.9 kB 660.6 kB/s eta 0:00:01\n",
      "     -------------------------------- ----- 143.4/165.9 kB 1.7 MB/s eta 0:00:01\n",
      "     -------------------------------------- 165.9/165.9 kB 1.7 MB/s eta 0:00:00\n",
      "Collecting kiwisolver>=1.3.1 (from matplotlib)\n",
      "  Downloading kiwisolver-1.4.5-cp312-cp312-win_amd64.whl.metadata (6.5 kB)\n",
      "Requirement already satisfied: numpy>=1.23 in c:\\users\\kiran\\onedrive\\desktop\\ai ml bootcamp\\aimlvenv\\lib\\site-packages (from matplotlib) (2.0.1)\n",
      "Requirement already satisfied: packaging>=20.0 in c:\\users\\kiran\\onedrive\\desktop\\ai ml bootcamp\\aimlvenv\\lib\\site-packages (from matplotlib) (24.1)\n",
      "Collecting pillow>=8 (from matplotlib)\n",
      "  Downloading pillow-10.4.0-cp312-cp312-win_amd64.whl.metadata (9.3 kB)\n",
      "Collecting pyparsing>=2.3.1 (from matplotlib)\n",
      "  Downloading pyparsing-3.1.2-py3-none-any.whl.metadata (5.1 kB)\n",
      "Requirement already satisfied: python-dateutil>=2.7 in c:\\users\\kiran\\onedrive\\desktop\\ai ml bootcamp\\aimlvenv\\lib\\site-packages (from matplotlib) (2.9.0.post0)\n",
      "Requirement already satisfied: six>=1.5 in c:\\users\\kiran\\onedrive\\desktop\\ai ml bootcamp\\aimlvenv\\lib\\site-packages (from python-dateutil>=2.7->matplotlib) (1.16.0)\n",
      "Downloading matplotlib-3.9.2-cp312-cp312-win_amd64.whl (7.8 MB)\n",
      "   ---------------------------------------- 0.0/7.8 MB ? eta -:--:--\n",
      "   - -------------------------------------- 0.2/7.8 MB 6.3 MB/s eta 0:00:02\n",
      "   - -------------------------------------- 0.3/7.8 MB 4.2 MB/s eta 0:00:02\n",
      "   -- ------------------------------------- 0.5/7.8 MB 3.8 MB/s eta 0:00:02\n",
      "   --- ------------------------------------ 0.6/7.8 MB 3.7 MB/s eta 0:00:02\n",
      "   ---- ----------------------------------- 0.9/7.8 MB 4.1 MB/s eta 0:00:02\n",
      "   ------ --------------------------------- 1.2/7.8 MB 4.4 MB/s eta 0:00:02\n",
      "   ------- -------------------------------- 1.4/7.8 MB 4.5 MB/s eta 0:00:02\n",
      "   -------- ------------------------------- 1.7/7.8 MB 4.7 MB/s eta 0:00:02\n",
      "   --------- ------------------------------ 1.9/7.8 MB 4.6 MB/s eta 0:00:02\n",
      "   ---------- ----------------------------- 2.1/7.8 MB 4.7 MB/s eta 0:00:02\n",
      "   ------------ --------------------------- 2.4/7.8 MB 4.8 MB/s eta 0:00:02\n",
      "   ------------ --------------------------- 2.5/7.8 MB 4.6 MB/s eta 0:00:02\n",
      "   ------------- -------------------------- 2.7/7.8 MB 4.6 MB/s eta 0:00:02\n",
      "   --------------- ------------------------ 3.0/7.8 MB 4.7 MB/s eta 0:00:02\n",
      "   ---------------- ----------------------- 3.3/7.8 MB 4.8 MB/s eta 0:00:01\n",
      "   ----------------- ---------------------- 3.5/7.8 MB 4.8 MB/s eta 0:00:01\n",
      "   ------------------- -------------------- 3.9/7.8 MB 5.0 MB/s eta 0:00:01\n",
      "   --------------------- ------------------ 4.1/7.8 MB 5.0 MB/s eta 0:00:01\n",
      "   ----------------------- ---------------- 4.5/7.8 MB 5.2 MB/s eta 0:00:01\n",
      "   ------------------------ --------------- 4.8/7.8 MB 5.2 MB/s eta 0:00:01\n",
      "   -------------------------- ------------- 5.1/7.8 MB 5.3 MB/s eta 0:00:01\n",
      "   --------------------------- ------------ 5.4/7.8 MB 5.4 MB/s eta 0:00:01\n",
      "   ------------------------------ --------- 5.9/7.8 MB 5.5 MB/s eta 0:00:01\n",
      "   ------------------------------- -------- 6.3/7.8 MB 5.6 MB/s eta 0:00:01\n",
      "   --------------------------------- ------ 6.6/7.8 MB 5.7 MB/s eta 0:00:01\n",
      "   ----------------------------------- ---- 7.0/7.8 MB 5.8 MB/s eta 0:00:01\n",
      "   ------------------------------------- -- 7.4/7.8 MB 5.9 MB/s eta 0:00:01\n",
      "   ---------------------------------------  7.8/7.8 MB 6.0 MB/s eta 0:00:01\n",
      "   ---------------------------------------- 7.8/7.8 MB 5.9 MB/s eta 0:00:00\n",
      "Downloading contourpy-1.2.1-cp312-cp312-win_amd64.whl (189 kB)\n",
      "   ---------------------------------------- 0.0/189.9 kB ? eta -:--:--\n",
      "   ---------------------------------------- 189.9/189.9 kB 5.6 MB/s eta 0:00:00\n",
      "Downloading cycler-0.12.1-py3-none-any.whl (8.3 kB)\n",
      "Downloading fonttools-4.53.1-cp312-cp312-win_amd64.whl (2.2 MB)\n",
      "   ---------------------------------------- 0.0/2.2 MB ? eta -:--:--\n",
      "   ----- ---------------------------------- 0.3/2.2 MB 9.9 MB/s eta 0:00:01\n",
      "   --------- ------------------------------ 0.5/2.2 MB 5.4 MB/s eta 0:00:01\n",
      "   -------------- ------------------------- 0.8/2.2 MB 5.8 MB/s eta 0:00:01\n",
      "   -------------------- ------------------- 1.1/2.2 MB 6.0 MB/s eta 0:00:01\n",
      "   ---------------------- ----------------- 1.2/2.2 MB 5.3 MB/s eta 0:00:01\n",
      "   ---------------------------- ----------- 1.6/2.2 MB 5.5 MB/s eta 0:00:01\n",
      "   ------------------------------------ --- 2.0/2.2 MB 6.0 MB/s eta 0:00:01\n",
      "   ---------------------------------------- 2.2/2.2 MB 6.1 MB/s eta 0:00:00\n",
      "Downloading kiwisolver-1.4.5-cp312-cp312-win_amd64.whl (56 kB)\n",
      "   ---------------------------------------- 0.0/56.0 kB ? eta -:--:--\n",
      "   ---------------------------------------- 56.0/56.0 kB ? eta 0:00:00\n",
      "Downloading pillow-10.4.0-cp312-cp312-win_amd64.whl (2.6 MB)\n",
      "   ---------------------------------------- 0.0/2.6 MB ? eta -:--:--\n",
      "   ---- ----------------------------------- 0.3/2.6 MB 9.6 MB/s eta 0:00:01\n",
      "   ---------- ----------------------------- 0.7/2.6 MB 8.7 MB/s eta 0:00:01\n",
      "   ---------------- ----------------------- 1.0/2.6 MB 8.3 MB/s eta 0:00:01\n",
      "   --------------------- ------------------ 1.4/2.6 MB 8.1 MB/s eta 0:00:01\n",
      "   -------------------------- ------------- 1.7/2.6 MB 7.8 MB/s eta 0:00:01\n",
      "   -------------------------------- ------- 2.1/2.6 MB 7.8 MB/s eta 0:00:01\n",
      "   ------------------------------------- -- 2.4/2.6 MB 7.6 MB/s eta 0:00:01\n",
      "   ---------------------------------------- 2.6/2.6 MB 7.4 MB/s eta 0:00:00\n",
      "Downloading pyparsing-3.1.2-py3-none-any.whl (103 kB)\n",
      "   ---------------------------------------- 0.0/103.2 kB ? eta -:--:--\n",
      "   ---------------------------------------- 103.2/103.2 kB 5.8 MB/s eta 0:00:00\n",
      "Installing collected packages: pyparsing, pillow, kiwisolver, fonttools, cycler, contourpy, matplotlib\n",
      "Successfully installed contourpy-1.2.1 cycler-0.12.1 fonttools-4.53.1 kiwisolver-1.4.5 matplotlib-3.9.2 pillow-10.4.0 pyparsing-3.1.2\n",
      "Note: you may need to restart the kernel to use updated packages.\n"
     ]
    },
    {
     "name": "stderr",
     "output_type": "stream",
     "text": [
      "\n",
      "[notice] A new release of pip is available: 24.0 -> 24.2\n",
      "[notice] To update, run: python.exe -m pip install --upgrade pip\n"
     ]
    }
   ],
   "source": [
    "# Matplotlib better suited for simple tasks, and very user friendly library\n",
    "# Seabon better suited for detailed tasks, not very friendly but has alot of graphs and tools\n",
    "# Plotly is better for more beatutiful \n",
    "\n",
    "%pip install matplotlib\n"
   ]
  },
  {
   "cell_type": "code",
   "execution_count": 9,
   "metadata": {},
   "outputs": [
    {
     "data": {
      "text/plain": [
       "Text(0.5, 1.0, 'Random Points')"
      ]
     },
     "execution_count": 9,
     "metadata": {},
     "output_type": "execute_result"
    },
    {
     "data": {
      "image/png": "[encoded data removed]",
      "text/plain": [
       "<Figure size 640x480 with 1 Axes>"
      ]
     },
     "metadata": {},
     "output_type": "display_data"
    }
   ],
   "source": [
    "import matplotlib.pyplot as plt \n",
    "import random\n",
    "\n",
    "\n",
    "# # Lets learn about plots\n",
    "# x = [10, 20, 30]\n",
    "# y = [10, 20, 30]\n",
    "\n",
    "# plt.plot(x, y)\n",
    "\n",
    "x = [random.randint(1, 100) for i in range (20)]\n",
    "y = [random.randint(1, 100) for i in range (20)]\n",
    "\n",
    "plt.plot(x, y, color = 'RED')\n",
    "plt.xlabel(\"X points\")\n",
    "plt.ylabel(\"Y points\")\n",
    "plt.title(\"Random Points\")\n",
    "#plt.show() # creates a window to show the graph\n",
    "\n"
   ]
  },
  {
   "cell_type": "code",
   "execution_count": 17,
   "metadata": {},
   "outputs": [
    {
     "data": {
      "text/plain": [
       "[<matplotlib.lines.Line2D at 0x1dd75aa2c00>]"
      ]
     },
     "execution_count": 17,
     "metadata": {},
     "output_type": "execute_result"
    },
    {
     "data": {
      "image/png": "[encoded data removed]",
      "text/plain": [
       "<Figure size 640x480 with 1 Axes>"
      ]
     },
     "metadata": {},
     "output_type": "display_data"
    }
   ],
   "source": [
    "import matplotlib.pyplot as plt\n",
    "\n",
    "x=[ num for num in range (-101, 101)]\n",
    "\n",
    "# # creating function for x**2 = 4ay curve or parabola \n",
    "# def calculate_y(x, a =1):\n",
    "#     return (x**2 )/ (4 * a)\n",
    "# y = [calculate_y(i) for i in x]\n",
    "\n",
    "# using lambda function for x**2 = -4ay curve or parabola\n",
    "Y = lambda x : x**2/ (-4)\n",
    "y = [Y(i) for i in x]\n",
    "\n",
    "plt.plot(x,y)"
   ]
  },
  {
   "cell_type": "markdown",
   "metadata": {},
   "source": [
    "import "
   ]
  }
 ],
 "metadata": {
  "kernelspec": {
   "display_name": "AIMLvenv",
   "language": "python",
   "name": "python3"
  },
  "language_info": {
   "codemirror_mode": {
    "name": "ipython",
    "version": 3
   },
   "file_extension": ".py",
   "mimetype": "text/x-python",
   "name": "python",
   "nbconvert_exporter": "python",
   "pygments_lexer": "ipython3",
   "version": "3.12.4"
  }
 },
 "nbformat": 4,
 "nbformat_minor": 2
}
